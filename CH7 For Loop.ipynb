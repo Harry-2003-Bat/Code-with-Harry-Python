{
 "cells": [
  {
   "cell_type": "markdown",
   "id": "6e2cca14",
   "metadata": {},
   "source": [
    "***Loop in Python***"
   ]
  },
  {
   "cell_type": "code",
   "execution_count": null,
   "id": "ed56d302",
   "metadata": {},
   "outputs": [],
   "source": [
    "# TODO - Loop - A loop in Python is a way to repeat a block of code multiple times. \n",
    "# A Python for loop iterates over each item in a sequence and runs the same block of code for every item.\n",
    "# there are 2 type of Loop -"
   ]
  },
  {
   "cell_type": "markdown",
   "id": "1d75f7fc",
   "metadata": {},
   "source": [
    "***Type Of Loop***"
   ]
  },
  {
   "cell_type": "code",
   "execution_count": null,
   "id": "8ad183bc",
   "metadata": {},
   "outputs": [],
   "source": [
    "# For loop - Repeats a block of code for each item in a sequence (like a list, string, tuple, or range). \n",
    "# It is typically used when you know the number of iterations in advance.\n",
    "# Example:\n",
    "\n",
    "for char in \"hello\":\n",
    "    print(char)\n",
    "# aap joh bhi variable upar use kar rahe ho usko hi niche print mein bhi use karna padta hai"
   ]
  },
  {
   "cell_type": "code",
   "execution_count": null,
   "id": "92f95049",
   "metadata": {},
   "outputs": [
    {
     "name": "stdout",
     "output_type": "stream",
     "text": [
      "0\n",
      "1\n",
      "2\n",
      "3\n",
      "4\n"
     ]
    }
   ],
   "source": [
    "# While Loop - Repeats a block of code as long as a given condition is True. \n",
    "# It is useful when you want to repeat an action until a condition changes.\n",
    "# Example :\n",
    "\n",
    "i = 0\n",
    "while i < 5:\n",
    "    print(i)\n",
    "    i += 1"
   ]
  },
  {
   "cell_type": "code",
   "execution_count": null,
   "id": "cf31f591",
   "metadata": {},
   "outputs": [
    {
     "name": "stdout",
     "output_type": "stream",
     "text": [
      "0 0\n",
      "0 1\n",
      "1 0\n",
      "1 1\n",
      "2 0\n",
      "2 1\n"
     ]
    }
   ],
   "source": [
    "# Nested Loop - A loop inside another loop. \n",
    "# Useful for iterating multi-dimensional data or repeating a task inside another repeating task.\n",
    "# Example :\n",
    "\n",
    "for i in range(3):\n",
    "     for j in range(2):\n",
    "        print(i, j)\n"
   ]
  },
  {
   "cell_type": "code",
   "execution_count": null,
   "id": "b2229a48",
   "metadata": {},
   "outputs": [
    {
     "name": "stdout",
     "output_type": "stream",
     "text": [
      "H\n",
      "a\n",
      "Nice try Diddy\n",
      "r\n",
      "r\n",
      "y\n"
     ]
    }
   ],
   "source": [
    "# String in loop -\n",
    "\n",
    "name = \"Harry\"\n",
    "for i in name:\n",
    "    print(i)\n",
    "    if (i == \"a\"):\n",
    "        print(\"Nice try Diddy\")"
   ]
  },
  {
   "cell_type": "code",
   "execution_count": null,
   "id": "b9d4998e",
   "metadata": {},
   "outputs": [
    {
     "name": "stdout",
     "output_type": "stream",
     "text": [
      "Red\n",
      "R e d Blue\n",
      "B l u e Green\n",
      "G r e e n Yellow\n",
      "Y e l l o w Black\n",
      "B l a c k White\n",
      "W h i t e "
     ]
    }
   ],
   "source": [
    "# List in Loop -\n",
    "\n",
    "a = (\"Red\",\"Blue\",\"Green\",\"Yellow\",\"Black\",\"White\")\n",
    "for i in a:\n",
    "    print(i)\n",
    "    for b in i:\n",
    "        print(b, end=(\" \"))"
   ]
  },
  {
   "cell_type": "markdown",
   "id": "41950a52",
   "metadata": {},
   "source": [
    "***Range Function***"
   ]
  },
  {
   "cell_type": "code",
   "execution_count": null,
   "id": "1f89ff72",
   "metadata": {},
   "outputs": [
    {
     "name": "stdout",
     "output_type": "stream",
     "text": [
      "0\n",
      "1\n",
      "2\n",
      "3\n",
      "4\n"
     ]
    }
   ],
   "source": [
    "# Range() - range() function generates a sequence of numbers, which is commonly used to control loops, especially for loops.\n",
    "\n",
    "# range(start, stop, step) - \n",
    "# start (optional): The starting number of the sequence. Default is 0.\n",
    "# stop (required): The sequence generates numbers up to, but not including, this number.\n",
    "#step (optional): The difference between each number in the sequence. Default is 1.\n",
    "\n",
    "# Example - \n",
    "\n",
    "for i in range(0, 5, 1):\n",
    "    print(i)\n"
   ]
  },
  {
   "cell_type": "code",
   "execution_count": 34,
   "id": "a34898ca",
   "metadata": {},
   "outputs": [
    {
     "name": "stdout",
     "output_type": "stream",
     "text": [
      "2\n",
      "4\n",
      "6\n",
      "8\n",
      "10\n",
      "12\n",
      "14\n",
      "16\n",
      "18\n"
     ]
    }
   ],
   "source": [
    "# Print Even Numbers between 1 and 20 -\n",
    "\n",
    "for i in range(2,20,2):\n",
    " print(i)"
   ]
  },
  {
   "cell_type": "code",
   "execution_count": null,
   "id": "ffd1ea8a",
   "metadata": {},
   "outputs": [
    {
     "name": "stdout",
     "output_type": "stream",
     "text": [
      "Sum of first 10 natural numbers is: 55\n"
     ]
    }
   ],
   "source": [
    "# Sum of First N Natural Numbers -\n",
    "\n",
    "N = 10  # You can change N to any positive integer\n",
    "total = 0\n",
    "for i in range(1, N + 1):\n",
    "    total += i\n",
    "print(\"Sum of first\", N, \"natural numbers is:\", total)\n",
    "\n",
    "# Explanation:\n",
    "\n",
    "# 1.   N = 10\n",
    "#    - This sets the value of `N` to `10`. \n",
    "#      You can change this value to calculate the sum for any other number of natural numbers.\n",
    "\n",
    "# 2.   total = 0\n",
    "#    - This initializes a variable `total` to `0`. \n",
    "#      It will be used to store the cumulative sum of the numbers.\n",
    "\n",
    "# 3.   for i in range(1, N + 1):\n",
    "#    - The `range(1, N + 1)` generates numbers from `1` to `N` (inclusive). For `N = 10`,\n",
    "#      it generates the sequence: `1, 2, 3, ..., 10`.\n",
    "#    - The loop iterates over each number in this range, \n",
    "#      and the variable `i` takes on each value in the sequence.\n",
    "\n",
    "# 4.   total += i:\n",
    "#    - This adds the current value of `i` to the `total` variable. For example:\n",
    "#      - When `i = 1`, `total = 0 + 1 = 1`.\n",
    "#      - When `i = 2`, `total = 1 + 2 = 3`.\n",
    "#      - When `i = 3`, `total = 3 + 3 = 6`.\n",
    "#      - This continues until `i = 10`.\n",
    "\n",
    "# 5.   print(\"Sum of first\", N, \"natural numbers is:\", total)`**:\n",
    "#    - After the loop finishes, \n",
    "#      the final value of `total` (the sum of the first `N` natural numbers) is printed.\n",
    "\n",
    "# Output:\n",
    "\n",
    "# For `N = 10`, the output will be:\n",
    "# Sum of first 10 natural numbers is: 55"
   ]
  }
 ],
 "metadata": {
  "kernelspec": {
   "display_name": "Python 3",
   "language": "python",
   "name": "python3"
  },
  "language_info": {
   "codemirror_mode": {
    "name": "ipython",
    "version": 3
   },
   "file_extension": ".py",
   "mimetype": "text/x-python",
   "name": "python",
   "nbconvert_exporter": "python",
   "pygments_lexer": "ipython3",
   "version": "3.13.2"
  }
 },
 "nbformat": 4,
 "nbformat_minor": 5
}
