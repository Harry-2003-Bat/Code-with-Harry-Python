{
 "cells": [
  {
   "cell_type": "markdown",
   "id": "5631a4d0",
   "metadata": {},
   "source": [
    "***If Else Elif Nested Statement In Python***"
   ]
  },
  {
   "cell_type": "code",
   "execution_count": 26,
   "id": "f2958527",
   "metadata": {},
   "outputs": [
    {
     "name": "stdout",
     "output_type": "stream",
     "text": [
      "My Age is 21\n",
      "Congratulation You Become an Adult\n"
     ]
    }
   ],
   "source": [
    "'''\n",
    "TODO If Statement :- kabhi kabhi programmer ko kisi evalution ko check karna rehta hai ki kyaa woh True hai yaa False. \n",
    "isliye if, else statement use hote hai \n",
    "Based on this, the conditional statements are further classified into following types:\n",
    "\n",
    "if\n",
    "if-else\n",
    "if-else-elif\n",
    "nested if-else-elif \n",
    "'''\n",
    "a = int(input(\"Enter your age : \"))\n",
    "print(\"My Age is\", a)\n",
    "if (a>18):\n",
    "    print(\"Congratulation You Become an Adult\")"
   ]
  },
  {
   "cell_type": "code",
   "execution_count": 59,
   "id": "96b383d0",
   "metadata": {},
   "outputs": [
    {
     "name": "stdout",
     "output_type": "stream",
     "text": [
      "My age is  75\n",
      "You are Eligible for Driving the F1\n",
      "Code Execution Successfully 🏁\n"
     ]
    }
   ],
   "source": [
    "'''\n",
    "#TODO If……Else statement evaluates like this:\n",
    "if the expression evaluates True:\n",
    "Execute the block of code inside if statement. After execution return to the code out of the if……else block.\\\n",
    "\n",
    "if the expression evaluates False:\n",
    "Execute the block of code inside else statement. After execution return to the code out of the if……else block\n",
    "\n",
    "# Conditional operators \n",
    "# >, <, >=, <=, ==, !=\n",
    "# print(a>18)\n",
    "# print(a<=18)\n",
    "# print(a==18)\n",
    "# print(a!=18)\n",
    "\n",
    "if (a>18):\n",
    "    print (\"You are Eligible for Driving\") - print ke aage joh khali space hai woh zaruri hai kyuki woh indexation hai \n",
    "    woh ek block ki tarah kaam karti hai\n",
    "\n",
    "dono if or else block execute nahi hote sirf joh sahi hai woh execute hote hai \n",
    "\n",
    "'''\n",
    "# Example -\n",
    "\n",
    "a=int(input(\"Enter your age :\"))\n",
    "print(\"My age is \", a)\n",
    "\n",
    "if (a>18):\n",
    "    print (\"You are Eligible for Driving the F1\")\n",
    "else:\n",
    "    print(\"You are not Eligible for Driving\")\n",
    "\n",
    "print(\"Code Execution Successfully \\U0001F3C1\")"
   ]
  },
  {
   "cell_type": "code",
   "execution_count": 45,
   "id": "97d66bd3",
   "metadata": {},
   "outputs": [
    {
     "name": "stdout",
     "output_type": "stream",
     "text": [
      "Your Number is 78\n",
      "Number is Positive\n",
      "Code Execution Successfully 🚀\n"
     ]
    }
   ],
   "source": [
    "\"\"\"\n",
    "#TODO Else-if Statement - for more than 1 Condition we use elif Statement \n",
    "# Sometimes, the programmer may want to evaluate more than one condition, this can be done using an elif statement.\n",
    "# it execute only the correct condition and uske baad wali condition ko woh scan bhi nahi karti. TBH\n",
    "\"\"\"\n",
    "num=int(input(\"Enter The Number :\"))\n",
    "print(\"Your Number is\", num)\n",
    "if (num>0):\n",
    "    print(\"Number is Positive\")\n",
    "elif(num<0):\n",
    "    print(\"Number is Negative\")\n",
    "elif(num==0):\n",
    "    print(\"Number is Null\")\n",
    "else:\n",
    "    print(\"Number is Invalid \")\n",
    "\n",
    "# alag hai yeh block se isliye print hoga \n",
    "\n",
    "print(\"Code Execution Successfully \\U0001F680\")"
   ]
  },
  {
   "cell_type": "code",
   "execution_count": 64,
   "id": "c52b473f",
   "metadata": {},
   "outputs": [
    {
     "name": "stdout",
     "output_type": "stream",
     "text": [
      "Your Digit is 67\n",
      "Digit is Less than 100\n",
      "Your Digit is Less than Equal to 100\n",
      "Code Execution Successfully 🔥\n"
     ]
    }
   ],
   "source": [
    "#TODO Nested if statements - We can use if, if-else, elif statements inside other if statements as well.\n",
    "\n",
    "Digit = int(input(\"Enter the Number :\"))\n",
    "print(\"Your Digit is\",Digit)\n",
    "\n",
    "if (Digit >100):\n",
    "    print(\"Digit is Greater than 100\")\n",
    "elif(Digit >= 100):\n",
    "        print(\"Digit is Greater than Equal to 100\")\n",
    "elif(Digit <100):\n",
    "    print(\"Digit is Less than 100\")\n",
    "    if(Digit <= 100):\n",
    "        print(\"Your Digit is Less than Equal to 100\")\n",
    "    elif(Digit < 100 and Digit > 50):\n",
    "        print(\"Digit is somehow between 50-100\")\n",
    "else:\n",
    "    print(\"Nice try Diddy\")\n",
    "print(\"Code Execution Successfully \\U0001F525\")"
   ]
  },
  {
   "cell_type": "code",
   "execution_count": 12,
   "id": "1a1a88d3",
   "metadata": {},
   "outputs": [
    {
     "name": "stdout",
     "output_type": "stream",
     "text": [
      "Good Evening\n",
      "Current time in seconds since epoch: 1753630436.7508035\n",
      "Wait for 3 seconds...\n",
      "Done!\n"
     ]
    }
   ],
   "source": [
    "# Question - Create a python program capable of greeting you with Good Morning, Good Afternoon and Good Evening \n",
    "# Your program should use time module to get the current hour.\n",
    "\n",
    "import time\n",
    "\n",
    "# Get the current hour\n",
    "current_hour = time.localtime().tm_hour\n",
    "\n",
    "if current_hour < 12:       # start\n",
    "    print(\"Good Morning\")\n",
    "elif current_hour < 18:     # Middle\n",
    "    print(\"Good Afternoon\")\n",
    "else:\n",
    "    print(\"Good Evening\")   # End\n",
    "\n",
    "# TODO Time Module - Python provides various time-related functions that allow you to work with time, \n",
    "# such as getting the current time, measuring execution time, and formatting time.\n",
    "\n",
    "# time.time(): Returns the current time in seconds since the epoch (January 1, 1970)\n",
    "import time\n",
    "print(\"Current time in seconds since epoch:\", time.time())\n",
    "\n",
    "#time.sleep(seconds): Pauses the program for the specified number of seconds.\n",
    "import time\n",
    "print(\"Wait for 3 seconds...\")\n",
    "time.sleep(3)\n",
    "print(\"Done!\")\n"
   ]
  },
  {
   "cell_type": "code",
   "execution_count": 5,
   "id": "aa043937",
   "metadata": {},
   "outputs": [
    {
     "name": "stdout",
     "output_type": "stream",
     "text": [
      "01:33:02\n",
      "1\n",
      "33\n",
      "2\n",
      "Good Night\n"
     ]
    }
   ],
   "source": [
    "import time\n",
    "timestamp = time.strftime('%H:%M:%S')\n",
    "print(timestamp)\n",
    "timestamp = int(time.strftime('%H'))\n",
    "print(timestamp)\n",
    "timestamp = int(time.strftime('%M'))\n",
    "print(timestamp)\n",
    "timestamp = int(time.strftime('%S'))\n",
    "print(timestamp)\n",
    "\n",
    "if (timestamp > 6 ):\n",
    "    print(\"Good Morning\")\n",
    "elif (timestamp > 12 ):\n",
    "    print(\"Good Afternon\")\n",
    "elif (timestamp > 6 ):\n",
    "    print(\"Good Evening\")\n",
    "else:\n",
    "    print(\"Good Night\")\n",
    "\n",
    "\n"
   ]
  },
  {
   "cell_type": "code",
   "execution_count": 14,
   "id": "a20feb43",
   "metadata": {},
   "outputs": [
    {
     "name": "stdout",
     "output_type": "stream",
     "text": [
      "2\n",
      "Not weird\n"
     ]
    }
   ],
   "source": [
    "#TODO Hackerank Problem @1\n",
    "\n",
    "n = int(input(\"Enter The Number\"))\n",
    "print(n)\n",
    "\n",
    "# We use 'n in (1, 3, 5, 7, 9)' to check if the value of n matches any value in the tuple (1, 3, 5, 7, 9).\n",
    "# This returns True if n is one of those numbers.\n",
    "# If you write 'n = (1, 3, 5, 7, 9)', you are assigning the tuple (1, 3, 5, 7, 9) to the variable n,\n",
    "# which is not what you want when checking membership.\n",
    "\n",
    "if n in (1, 3, 5, 7, 9):\n",
    "    print(\"Weird\")\n",
    "elif n in (2, 4):\n",
    "    print(\"Not weird\")\n",
    "elif n in (6, 8, 10, 12, 14, 16, 18, 20):\n",
    "    print(\"Weird\")\n",
    "elif (n > 20):\n",
    "    print(\"Not Weird\")\n",
    "\n",
    "\"\"\"\n",
    "To include all odd numbers without manually typing them, \n",
    "you can use a list comprehension or the range() function to generate the odd numbers dynamically.\n",
    "\n",
    "Example: Using range() for Odd Numbers\n",
    "\"\"\"\n",
    "if n in range(1, 100, 2):  # Generates all odd numbers from 1 to 99\n",
    "    print(\"Weird\")\n",
    "\n",
    "#range(start, stop, step):\n",
    "#start: The starting number (inclusive). Here, it's 1.\n",
    "#stop: The stopping number (exclusive). Adjust it as needed.\n",
    "#step: The increment. Use 2 to skip even numbers and generate only odd numbers.\n",
    "\n"
   ]
  },
  {
   "cell_type": "code",
   "execution_count": 24,
   "id": "33e2824c",
   "metadata": {},
   "outputs": [
    {
     "name": "stdout",
     "output_type": "stream",
     "text": [
      "84\n",
      "The number is even\n"
     ]
    }
   ],
   "source": [
    "#TODO Hackerank Problem @2\n",
    "\n",
    "n = int(input(\"Enter The Number\"))\n",
    "print(n)\n",
    "\n",
    "if n%2==0:\n",
    "    print(\"The number is even\")\n",
    "else:\n",
    "    print(\"The number is Odd\")"
   ]
  }
 ],
 "metadata": {
  "kernelspec": {
   "display_name": "Python 3",
   "language": "python",
   "name": "python3"
  },
  "language_info": {
   "codemirror_mode": {
    "name": "ipython",
    "version": 3
   },
   "file_extension": ".py",
   "mimetype": "text/x-python",
   "name": "python",
   "nbconvert_exporter": "python",
   "pygments_lexer": "ipython3",
   "version": "3.13.2"
  }
 },
 "nbformat": 4,
 "nbformat_minor": 5
}
