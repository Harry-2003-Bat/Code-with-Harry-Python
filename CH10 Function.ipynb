{
 "cells": [
  {
   "cell_type": "markdown",
   "id": "d0b729b5",
   "metadata": {},
   "source": [
    "***Function In Python***"
   ]
  },
  {
   "cell_type": "code",
   "execution_count": null,
   "id": "46c46575",
   "metadata": {},
   "outputs": [],
   "source": [
    "#TODO - A function is a block of code that performs a specific task whenever it is called\n",
    "\n",
    "# Function - There are two types of functions: codeword for large block of code.\n",
    "\n",
    "# Built-in functions - These functions are defined and pre-coded in python. Some examples of built-in functions are as follows:\n",
    "#                      min(), max(), len(), sum(), type(), range(), dict(), list(), tuple(), set(), print(), etc.\n",
    "\n",
    "# User-defined functions - We can create functions to perform specific tasks as per our needs. \n",
    "#                          Such functions are called user-defined functions."
   ]
  },
  {
   "cell_type": "code",
   "execution_count": null,
   "id": "47d11aa0",
   "metadata": {},
   "outputs": [],
   "source": [
    "# Syntax - def function_name(parameters):\n",
    "        # Code and Statements\n",
    "\n",
    "# Create a function using the def keyword, followed by a function name, followed by a paranthesis (()) and a colon(:).\n",
    "# Any parameters and arguments should be placed within the parentheses.\n",
    "# Rules to naming function are similar to that of naming variables.\n",
    "# Any statements and other code within the function should be indented."
   ]
  },
  {
   "cell_type": "code",
   "execution_count": null,
   "id": "067caa03",
   "metadata": {},
   "outputs": [
    {
     "name": "stdout",
     "output_type": "stream",
     "text": [
      "First Num is Greater\n"
     ]
    }
   ],
   "source": [
    "# Example - 1\n",
    "\n",
    "def isGreater(a,b):\n",
    "     if(a>b):\n",
    "      print(\"First Num is Greater\")\n",
    "     else:\n",
    "        print(\"Second Num is Less\")\n",
    "a = 9\n",
    "b = 8\n",
    "isGreater(a, b)\n",
    "\n",
    "# indented par dhyaan dena padega "
   ]
  },
  {
   "cell_type": "code",
   "execution_count": null,
   "id": "e85640e3",
   "metadata": {},
   "outputs": [
    {
     "name": "stdout",
     "output_type": "stream",
     "text": [
      "24\n",
      "50\n"
     ]
    }
   ],
   "source": [
    "# Example - 2\n",
    "\n",
    "def Addoftwo(a,b):\n",
    "    addition1= (a+b)\n",
    "    print(addition1)\n",
    "a = 12\n",
    "b = 12\n",
    "Addoftwo(a,b)\n",
    "c = 20\n",
    "d = 30\n",
    "Addoftwo(c,d)"
   ]
  },
  {
   "cell_type": "markdown",
   "id": "69cd59f0",
   "metadata": {},
   "source": [
    "***Function Argument In Python***"
   ]
  },
  {
   "cell_type": "code",
   "execution_count": null,
   "id": "2a596047",
   "metadata": {},
   "outputs": [],
   "source": [
    "#TODO Function Argumnet - There are four types of arguments that we can provide in a function:\n",
    "\n",
    "# Default Arguments\n",
    "# Keyword Arguments\n",
    "# Variable length Arguments\n",
    "# Required Arguments"
   ]
  },
  {
   "cell_type": "code",
   "execution_count": null,
   "id": "05f3402a",
   "metadata": {},
   "outputs": [
    {
     "name": "stdout",
     "output_type": "stream",
     "text": [
      "Hello, Harsh wardhan Jadho\n"
     ]
    }
   ],
   "source": [
    "# Default argumnet - Provide a default value in the function definition. \n",
    "#                  - If no value is passed during the function call, the default is used.\n",
    "\n",
    "# Example - yha humne last mein name(\"Harsh\") ek default argument hai joh humne last mein pass kari hai\n",
    "\n",
    "def name(fname, mname = \"wardhan\", lname =\"Jadho\"):\n",
    "    print(\"Hello,\",fname, mname, lname)\n",
    "name(\"Harsh\")  "
   ]
  },
  {
   "cell_type": "code",
   "execution_count": null,
   "id": "81210c9b",
   "metadata": {},
   "outputs": [
    {
     "name": "stdout",
     "output_type": "stream",
     "text": [
      "Hello Harvard Tony Stark\n"
     ]
    }
   ],
   "source": [
    "# Keyword Arguments: Pass arguments using key=value syntax. Random oreder mein output le sakte hai\n",
    "#                   - random order\n",
    "# Example - \n",
    "\n",
    "def name(fname, mname, lname):\n",
    "    print(\"Hello\", fname,mname,lname)\n",
    "name(mname=\"Tony\",fname=\"Harvard\",lname=\"Stark\")"
   ]
  },
  {
   "cell_type": "code",
   "execution_count": null,
   "id": "db6f5c6c",
   "metadata": {},
   "outputs": [
    {
     "name": "stdout",
     "output_type": "stream",
     "text": [
      "Hello, James Buchanan Barnes\n"
     ]
    }
   ],
   "source": [
    "# Variable Length Argument - yha *name ko tuple de diya jisse aap jitne chao utne naam le sakte ho\n",
    "\n",
    "def name(*name):\n",
    "    print(\"Hello,\", name[0], name[1], name[2])\n",
    "\n",
    "name(\"James\", \"Buchanan\", \"Barnes\")"
   ]
  },
  {
   "cell_type": "code",
   "execution_count": 2,
   "id": "72960d57",
   "metadata": {},
   "outputs": [
    {
     "name": "stdout",
     "output_type": "stream",
     "text": [
      "Hello, James Buchanan Barnes\n"
     ]
    }
   ],
   "source": [
    "# Return Statement - The return statement is used to return the value of the expression back to the calling function.\n",
    "\n",
    "def name(fname, mname, lname):\n",
    "    return \"Hello, \" + fname + \" \" + mname + \" \" + lname\n",
    "\n",
    "print(name(\"James\", \"Buchanan\", \"Barnes\"))"
   ]
  }
 ],
 "metadata": {
  "kernelspec": {
   "display_name": "Python 3",
   "language": "python",
   "name": "python3"
  },
  "language_info": {
   "codemirror_mode": {
    "name": "ipython",
    "version": 3
   },
   "file_extension": ".py",
   "mimetype": "text/x-python",
   "name": "python",
   "nbconvert_exporter": "python",
   "pygments_lexer": "ipython3",
   "version": "3.13.2"
  }
 },
 "nbformat": 4,
 "nbformat_minor": 5
}
