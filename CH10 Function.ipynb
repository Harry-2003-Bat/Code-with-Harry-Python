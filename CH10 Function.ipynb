{
 "cells": [
  {
   "cell_type": "code",
   "execution_count": null,
   "id": "46c46575",
   "metadata": {},
   "outputs": [],
   "source": [
    "#TODO - A function is a block of code that performs a specific task whenever it is called\n",
    "\n",
    "# Function - There are two types of functions: codeword for large block of code.\n",
    "\n",
    "# Built-in functions - These functions are defined and pre-coded in python. Some examples of built-in functions are as follows:\n",
    "#                      min(), max(), len(), sum(), type(), range(), dict(), list(), tuple(), set(), print(), etc.\n",
    "\n",
    "# User-defined functions - We can create functions to perform specific tasks as per our needs. \n",
    "#                          Such functions are called user-defined functions."
   ]
  },
  {
   "cell_type": "code",
   "execution_count": null,
   "id": "47d11aa0",
   "metadata": {},
   "outputs": [],
   "source": [
    "# Syntax - def function_name(parameters):\n",
    "        # Code and Statements\n",
    "\n",
    "# Create a function using the def keyword, followed by a function name, followed by a paranthesis (()) and a colon(:).\n",
    "# Any parameters and arguments should be placed within the parentheses.\n",
    "# Rules to naming function are similar to that of naming variables.\n",
    "# Any statements and other code within the function should be indented."
   ]
  },
  {
   "cell_type": "code",
   "execution_count": null,
   "id": "067caa03",
   "metadata": {},
   "outputs": [
    {
     "name": "stdout",
     "output_type": "stream",
     "text": [
      "First Num is Greater\n"
     ]
    }
   ],
   "source": [
    "# Example - 1\n",
    "\n",
    "def isGreater(a,b):\n",
    "     if(a>b):\n",
    "      print(\"First Num is Greater\")\n",
    "     else:\n",
    "        print(\"Second Num is Less\")\n",
    "a = 9\n",
    "b = 8\n",
    "isGreater(a, b)\n",
    "\n",
    "# indented par dhyaan dena padega "
   ]
  },
  {
   "cell_type": "code",
   "execution_count": 2,
   "id": "e85640e3",
   "metadata": {},
   "outputs": [
    {
     "name": "stdout",
     "output_type": "stream",
     "text": [
      "24\n",
      "50\n"
     ]
    }
   ],
   "source": [
    "# Example - 2\n",
    "\n",
    "def Addoftwo(a,b):\n",
    "    addition1= (a+b)\n",
    "    print(addition1)\n",
    "a = 12\n",
    "b = 12\n",
    "Addoftwo(a,b)\n",
    "c = 20\n",
    "d = 30\n",
    "Addoftwo(c,d)"
   ]
  },
  {
   "cell_type": "code",
   "execution_count": null,
   "id": "93a4c20c",
   "metadata": {},
   "outputs": [],
   "source": [
    "# Example - 3\n",
    "\n",
    "def vote(a,b):\n",
    "    "
   ]
  }
 ],
 "metadata": {
  "kernelspec": {
   "display_name": "Python 3",
   "language": "python",
   "name": "python3"
  },
  "language_info": {
   "codemirror_mode": {
    "name": "ipython",
    "version": 3
   },
   "file_extension": ".py",
   "mimetype": "text/x-python",
   "name": "python",
   "nbconvert_exporter": "python",
   "pygments_lexer": "ipython3",
   "version": "3.13.2"
  }
 },
 "nbformat": 4,
 "nbformat_minor": 5
}
