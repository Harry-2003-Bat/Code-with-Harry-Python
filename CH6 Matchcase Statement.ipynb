{
 "cells": [
  {
   "cell_type": "code",
   "execution_count": null,
   "id": "b2360f26",
   "metadata": {},
   "outputs": [
    {
     "name": "stdout",
     "output_type": "stream",
     "text": [
      "Ye 1 ya 2 nahi hai!\n"
     ]
    }
   ],
   "source": [
    "# TODO  Matchcase Statemnt (Python) - Switchcase Statement (C,C++,Java)\n",
    "\n",
    "# The match…case statement in Python allows you to perform pattern matching, \n",
    "# similar to switch-case statements in other languages. It is available from Python 3.10 onwards\n",
    "# A match statement will compare a given variable’s value to different shapes, \n",
    "# also referred to as the pattern. The main idea is to keep on comparing the variable with all the present patterns until it fits into one.\n",
    "\n",
    "# Syntax -\n",
    " \n",
    "\"\"\"\n",
    "match variable_name:\n",
    "            case ‘pattern1’ : //statement1\n",
    "            case ‘pattern2’ : //statement2\n",
    "            …            \n",
    "            case ‘pattern n’ : //statement n\n",
    "\"\"\"\n",
    "\n",
    "# Example 1 -\n",
    "\n",
    "number = int(input(\"Koi number daalo: \"))\n",
    "\n",
    "match number:\n",
    "    case 1:\n",
    "        print(\"Ye ek hai!\")\n",
    "    case 2:\n",
    "        print(\"Ye do hai!\")\n",
    "    case _:\n",
    "        print(\"Ye 1 ya 2 nahi hai!\")\n",
    "\n",
    "# Isme, agar user 1 daalega to \"Ye ek hai!\" print hoga, 2 daalega to \"Ye do hai!\" print hoga, warna default case chalega jo underscore (_) se likha ha\n"
   ]
  },
  {
   "cell_type": "code",
   "execution_count": 2,
   "id": "82ca16e0",
   "metadata": {},
   "outputs": [
    {
     "name": "stdout",
     "output_type": "stream",
     "text": [
      "x % 2 == 0 and case is 4\n"
     ]
    }
   ],
   "source": [
    "# Example 2\n",
    "\n",
    "x = 4\n",
    "# x is the variable to match\n",
    "match x:\n",
    "    # if x is 0\n",
    "    case 0:\n",
    "        print(\"x is zero\")\n",
    "    # case with if-condition\n",
    "    case 4 if x % 2 == 0:\n",
    "        print(\"x % 2 == 0 and case is 4\")\n",
    "    # Empty case with if-condition\n",
    "    case _ if x < 10:\n",
    "        print(\"x is < 10\")\n",
    "    # default case(will only be matched if the above cases were not matched)\n",
    "    # so it is basically just an else:\n",
    "    case _:\n",
    "        print(x)"
   ]
  },
  {
   "cell_type": "code",
   "execution_count": null,
   "id": "2870ae0b",
   "metadata": {},
   "outputs": [
    {
     "name": "stdout",
     "output_type": "stream",
     "text": [
      "Your Day is 0\n",
      "Invalid Day\n"
     ]
    }
   ],
   "source": [
    "# Example 3 - Week Day Finder \n",
    "\n",
    "Day = int(input(\"Enter the Day Number : \"))\n",
    "print(\"Your Day is\", Day)\n",
    "\n",
    "match Day:\n",
    "    case 1:\n",
    "        print(\"And Your Day is Sunday\")\n",
    "    case 2:\n",
    "        print(\"And Your Day is Monday\")\n",
    "    case 3:\n",
    "        print(\"And Your Day is Tuesday\")\n",
    "    case 4:\n",
    "        print(\"And Your Day is Wednesday\")\n",
    "    case 5:\n",
    "        print(\"And Your Day is Thursday\")\n",
    "    case 6:\n",
    "        print(\"And Your Day is Friday\")\n",
    "    case 7:\n",
    "        print(\"And Your Day is Saturday\")\n",
    "    case _ if Day == 0:\n",
    "        print(\"Invalid Day\")"
   ]
  }
 ],
 "metadata": {
  "kernelspec": {
   "display_name": "Python 3",
   "language": "python",
   "name": "python3"
  },
  "language_info": {
   "codemirror_mode": {
    "name": "ipython",
    "version": 3
   },
   "file_extension": ".py",
   "mimetype": "text/x-python",
   "name": "python",
   "nbconvert_exporter": "python",
   "pygments_lexer": "ipython3",
   "version": "3.13.2"
  }
 },
 "nbformat": 4,
 "nbformat_minor": 5
}
