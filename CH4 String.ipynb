{
 "cells": [
  {
   "cell_type": "code",
   "execution_count": null,
   "id": "1272307d",
   "metadata": {},
   "outputs": [
    {
     "name": "stdout",
     "output_type": "stream",
     "text": [
      "Harry\n"
     ]
    }
   ],
   "source": [
    "#TODO String : Anything Between enclose Single or Double Quatation mark is Considerd as String.\n",
    "# Strings are immutable matlab string change nahi ho sakti \n",
    "# for example agar \"Harry\" likha hai toh uske word aage piche nahi ho sakte woh wohin rahahege\n",
    "\n",
    "# for Example 1 \n",
    "\n",
    "name = \"Harry\"\n",
    "print(name)"
   ]
  },
  {
   "cell_type": "code",
   "execution_count": 1,
   "id": "2730cdf4",
   "metadata": {},
   "outputs": [
    {
     "name": "stdout",
     "output_type": "stream",
     "text": [
      "My name is Dipanshu\n",
      "My age is 21\n",
      "My College Name is SVVV\n"
     ]
    }
   ],
   "source": [
    "# Example 2 \n",
    "\n",
    "name = input(\"Enter your Name :\")\n",
    "age = input(\"Enter your age :\")\n",
    "College = input(\"Enter your College Name :\")\n",
    "print(f\"My name is {name}\\nMy age is {age}\\nMy College Name is {College}\")\n",
    "\n",
    "#Jab aap string ke aage f lagate ho (jaise f\"...\"), toh aap string ke andar variables directly {} ke andar likh sakte ho.\n",
    "#Jaise {name}, {age}, {College} — yeh sab variables hain, jinmein kuch values store hongi"
   ]
  },
  {
   "cell_type": "code",
   "execution_count": 4,
   "id": "488a22e8",
   "metadata": {},
   "outputs": [
    {
     "name": "stdout",
     "output_type": "stream",
     "text": [
      "hello \n",
      "how are you\n",
      "i hope you are ok \n"
     ]
    }
   ],
   "source": [
    "# Example 3 - Multiline String \n",
    "\n",
    "apple = '''hello \n",
    "how are you\n",
    "i hope you are ok '''\n",
    "print(apple)\n",
    "\n",
    "#triple single quatation ke andar koi bhi cheez enclosed kar do toh woh string ban jaati hai'''"
   ]
  },
  {
   "cell_type": "code",
   "execution_count": 4,
   "id": "7546934f",
   "metadata": {},
   "outputs": [
    {
     "name": "stdout",
     "output_type": "stream",
     "text": [
      "S\n"
     ]
    }
   ],
   "source": [
    "#TODO Accessing character in string - By indexing you can access any char from the string for example \n",
    "\n",
    "name = \"Harshwardhan Singh Jadho\"\n",
    "print(name[13])"
   ]
  },
  {
   "cell_type": "code",
   "execution_count": 5,
   "id": "1ec9be98",
   "metadata": {},
   "outputs": [
    {
     "name": "stdout",
     "output_type": "stream",
     "text": [
      "Harshwardhan\n"
     ]
    }
   ],
   "source": [
    "#TODO String Sliceing - agar tumko sirf selected char print karwana ho toh yeh print(name[0:12]) wala format use kar sakte ho  \n",
    "\n",
    "print(name[0:12])\n",
    "\n",
    "# Indexing start from Left and the first number is zero as you can see Harshwardhan Singh Jadho is 0123456789101112 1314151617 1819202122"
   ]
  },
  {
   "cell_type": "code",
   "execution_count": 6,
   "id": "fcb35afb",
   "metadata": {},
   "outputs": [
    {
     "name": "stdout",
     "output_type": "stream",
     "text": [
      "Apple\n",
      "Pie\n",
      "pleP\n",
      "ApplePie\n"
     ]
    }
   ],
   "source": [
    "#TODO Slicing Example\n",
    "pie = \"ApplePie\"\n",
    "print(pie[:5])      #Slicing from Start\n",
    "print(pie[5:])      #Slicing till End\n",
    "print(pie[2:6])     #Slicing in between\n",
    "print(pie[-8:])     #Slicing using negative index"
   ]
  },
  {
   "cell_type": "code",
   "execution_count": 9,
   "id": "eb15b0d8",
   "metadata": {},
   "outputs": [
    {
     "name": "stdout",
     "output_type": "stream",
     "text": [
      "H\n",
      "a\n",
      "r\n",
      "s\n",
      "h\n",
      "w\n",
      "a\n",
      "r\n",
      "d\n",
      "h\n",
      "a\n",
      "n\n",
      " \n",
      "S\n",
      "i\n",
      "n\n",
      "g\n",
      "h\n",
      " \n",
      "J\n",
      "a\n",
      "d\n",
      "h\n",
      "o\n"
     ]
    }
   ],
   "source": [
    "#TODO For Loop through string - tum saare character ek sath bhi dikha sakte ho for loop ke through \n",
    "\n",
    "for character in name:\n",
    "\tprint(character)"
   ]
  },
  {
   "cell_type": "code",
   "execution_count": 10,
   "id": "8053ff5c",
   "metadata": {},
   "outputs": [
    {
     "name": "stdout",
     "output_type": "stream",
     "text": [
      "24\n"
     ]
    }
   ],
   "source": [
    "# TODO Length of the String - use len() Function\n",
    "\n",
    "print(len(name)) \n",
    "\n",
    "# output 24 aayega kyuki lens() Fn spaces bhi count karta hai as a character in a string"
   ]
  },
  {
   "cell_type": "code",
   "execution_count": null,
   "id": "5afddf89",
   "metadata": {},
   "outputs": [
    {
     "name": "stdout",
     "output_type": "stream",
     "text": [
      "HARRY\n"
     ]
    }
   ],
   "source": [
    "# Uppercase the string\n",
    "\n",
    "a =\"Harry\"\n",
    "print(a.upper())"
   ]
  }
 ],
 "metadata": {
  "kernelspec": {
   "display_name": "Python 3",
   "language": "python",
   "name": "python3"
  },
  "language_info": {
   "codemirror_mode": {
    "name": "ipython",
    "version": 3
   },
   "file_extension": ".py",
   "mimetype": "text/x-python",
   "name": "python",
   "nbconvert_exporter": "python",
   "pygments_lexer": "ipython3",
   "version": "3.13.2"
  }
 },
 "nbformat": 4,
 "nbformat_minor": 5
}
