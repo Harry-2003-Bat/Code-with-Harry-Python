{
 "cells": [
  {
   "cell_type": "code",
   "execution_count": null,
   "id": "1272307d",
   "metadata": {},
   "outputs": [
    {
     "name": "stdout",
     "output_type": "stream",
     "text": [
      "Harry\n"
     ]
    }
   ],
   "source": [
    "#TODO String : Anything Between enclose Single or Double Quatation mark is Considerd as String.\n",
    "# Strings are immutable matlab string change nahi ho sakti jainwin\n",
    "# for example agar \"Harry\" likha hai toh uske word aage piche nahi ho sakte woh wohin rahahege\n",
    "\n",
    "# for Example 1 \n",
    "\n",
    "name = \"Harry\"\n",
    "print(name)"
   ]
  },
  {
   "cell_type": "code",
   "execution_count": 2,
   "id": "2730cdf4",
   "metadata": {},
   "outputs": [
    {
     "name": "stdout",
     "output_type": "stream",
     "text": [
      "My name is Nidhi\n",
      "My age is 29\n",
      "My College Name is IIHR\n",
      "\n"
     ]
    }
   ],
   "source": [
    "# Example 2 \n",
    "\n",
    "name = input(\"Enter your Name :\")\n",
    "age = input(\"Enter your age :\")\n",
    "College = input(\"Enter your College Name :\")\n",
    "print(f\"My name is {name}\\nMy age is {age}\\nMy College Name is {College}\\n\")\n",
    "\n",
    "#Jab aap string ke aage f lagate ho (jaise f\"...\"), toh aap string ke andar variables directly {} ke andar likh sakte ho.\n",
    "#Jaise {name}, {age}, {College} — yeh sab variables hain, jinmein kuch values store hongi"
   ]
  },
  {
   "cell_type": "code",
   "execution_count": 4,
   "id": "488a22e8",
   "metadata": {},
   "outputs": [
    {
     "name": "stdout",
     "output_type": "stream",
     "text": [
      "hello \n",
      "how are you\n",
      "i hope you are ok \n"
     ]
    }
   ],
   "source": [
    "# Example 3 - Multiline String \n",
    "\n",
    "apple = '''hello \n",
    "how are you\n",
    "i hope you are ok '''\n",
    "print(apple)\n",
    "\n",
    "#triple single quatation ke andar koi bhi cheez enclosed kar do toh woh string ban jaati hai'''"
   ]
  },
  {
   "cell_type": "code",
   "execution_count": 4,
   "id": "7546934f",
   "metadata": {},
   "outputs": [
    {
     "name": "stdout",
     "output_type": "stream",
     "text": [
      "S\n"
     ]
    }
   ],
   "source": [
    "#TODO Accessing character in string - By indexing you can access any char from the string for example \n",
    "\n",
    "name = \"Harshwardhan Singh Jadho\"\n",
    "print(name[13])"
   ]
  },
  {
   "cell_type": "code",
   "execution_count": 5,
   "id": "1ec9be98",
   "metadata": {},
   "outputs": [
    {
     "name": "stdout",
     "output_type": "stream",
     "text": [
      "Harshwardhan\n"
     ]
    }
   ],
   "source": [
    "#TODO String Sliceing - agar tumko sirf selected char print karwana ho toh yeh print(name[0:12]) wala format use kar sakte ho  \n",
    "\n",
    "print(name[0:12])\n",
    "\n",
    "# Indexing start from Left and the first number is zero as you can see Harshwardhan Singh Jadho is 0123456789101112 1314151617 1819202122"
   ]
  },
  {
   "cell_type": "code",
   "execution_count": 6,
   "id": "fcb35afb",
   "metadata": {},
   "outputs": [
    {
     "name": "stdout",
     "output_type": "stream",
     "text": [
      "Apple\n",
      "Pie\n",
      "pleP\n",
      "ApplePie\n"
     ]
    }
   ],
   "source": [
    "#TODO Slicing Example\n",
    "pie = \"ApplePie\"\n",
    "print(pie[:5])      #Slicing from Start\n",
    "print(pie[5:])      #Slicing till End\n",
    "print(pie[2:6])     #Slicing in between\n",
    "print(pie[-8:])     #Slicing using negative index"
   ]
  },
  {
   "cell_type": "code",
   "execution_count": 9,
   "id": "eb15b0d8",
   "metadata": {},
   "outputs": [
    {
     "name": "stdout",
     "output_type": "stream",
     "text": [
      "H\n",
      "a\n",
      "r\n",
      "s\n",
      "h\n",
      "w\n",
      "a\n",
      "r\n",
      "d\n",
      "h\n",
      "a\n",
      "n\n",
      " \n",
      "S\n",
      "i\n",
      "n\n",
      "g\n",
      "h\n",
      " \n",
      "J\n",
      "a\n",
      "d\n",
      "h\n",
      "o\n"
     ]
    }
   ],
   "source": [
    "#TODO For Loop through string - tum saare character ek sath bhi dikha sakte ho for loop ke through \n",
    "\n",
    "for character in name:\n",
    "\tprint(character)"
   ]
  },
  {
   "cell_type": "code",
   "execution_count": 10,
   "id": "8053ff5c",
   "metadata": {},
   "outputs": [
    {
     "name": "stdout",
     "output_type": "stream",
     "text": [
      "24\n"
     ]
    }
   ],
   "source": [
    "# TODO Length of the String - use len() Function\n",
    "\n",
    "print(len(name)) \n",
    "\n",
    "# output 24 aayega kyuki lens() Fn spaces bhi count karta hai as a character in a string"
   ]
  },
  {
   "cell_type": "code",
   "execution_count": null,
   "id": "5afddf89",
   "metadata": {},
   "outputs": [
    {
     "name": "stdout",
     "output_type": "stream",
     "text": [
      "HARRY\n"
     ]
    }
   ],
   "source": [
    "# Uppercase the string\n",
    "\n",
    "a =\"Harry\"\n",
    "print(a.upper())"
   ]
  },
  {
   "cell_type": "code",
   "execution_count": 1,
   "id": "119cacd0",
   "metadata": {},
   "outputs": [
    {
     "name": "stdout",
     "output_type": "stream",
     "text": [
      "harry\n"
     ]
    }
   ],
   "source": [
    "# Lowercase the String\n",
    "\n",
    "a =\"Harry\"\n",
    "print(a.lower())"
   ]
  },
  {
   "cell_type": "code",
   "execution_count": null,
   "id": "67996b2d",
   "metadata": {},
   "outputs": [
    {
     "name": "stdout",
     "output_type": "stream",
     "text": [
      "ABCDFRBWERZSR\n"
     ]
    }
   ],
   "source": [
    "# Q - What will be output of this  \n",
    "\n",
    "a =\"ABcDFRBwerZSR\"\n",
    "print(a.upper())\n",
    "\n",
    "# Point to learn - Strings are immutable matlab woh change nahi hogi toh iss case woh ek nayi string banayega isliye output yeh aa raha"
   ]
  },
  {
   "cell_type": "code",
   "execution_count": null,
   "id": "bfff8b77",
   "metadata": {},
   "outputs": [
    {
     "name": "stdout",
     "output_type": "stream",
     "text": [
      "Hello \n",
      "!!!!Hello \n"
     ]
    }
   ],
   "source": [
    "# the rstrip() removes any trailing characters. \n",
    "\n",
    "str3 = \"Hello !!!\"\n",
    "print(str3.rstrip(\"!\"))\n",
    "\n",
    "# Exclaimation mark ko hta deta agar kisi sentance mein hai toh par agar uss string ke pehle ! mark hai toh nahi hta payega \n",
    "\n",
    "str3 = \"!!!!Hello !!!\"\n",
    "print(str3.rstrip(\"!\"))\n"
   ]
  },
  {
   "cell_type": "code",
   "execution_count": 8,
   "id": "47367b46",
   "metadata": {},
   "outputs": [
    {
     "name": "stdout",
     "output_type": "stream",
     "text": [
      "John Denver sing Country Road\n"
     ]
    }
   ],
   "source": [
    "# Replace -  replace method aapke string ko change kar deta hai kisi aur strings se Simple \n",
    "\n",
    "a = \"Harry sing Country Road\"\n",
    "print(a.replace(\"Harry\",\"John Denver\"))"
   ]
  },
  {
   "cell_type": "code",
   "execution_count": null,
   "id": "41d4f5f7",
   "metadata": {},
   "outputs": [
    {
     "name": "stdout",
     "output_type": "stream",
     "text": [
      "['Silver', 'Spoon', 'in', 'my', 'moon']\n"
     ]
    }
   ],
   "source": [
    "# Split method - splits the given string at the specified instance and returns the separated strings as list items. yeh method\n",
    "# string ko seprate kar deta for example \n",
    "\n",
    "str2 = \"Silver Spoon in my moon\"\n",
    "print(str2.split(\" \"))      #Splits the string at the whitespace \" \".\n",
    "\n",
    "#space wale character ko seprate kar diya aur yeh #TODO very important list bna deta hai unn string ki "
   ]
  },
  {
   "cell_type": "code",
   "execution_count": null,
   "id": "c18479ef",
   "metadata": {},
   "outputs": [
    {
     "name": "stdout",
     "output_type": "stream",
     "text": [
      "Introduction to js\n",
      "Introduction t0 js\n"
     ]
    }
   ],
   "source": [
    "# Capitalize - First letter ko Uppercase mein convert kar deta hai yeh cheez bloging mein bahut use hoti hai. web design mein kaam aati hai\n",
    "\n",
    "blogheading = \"introduction to Js\"\n",
    "print(blogheading.capitalize())\n",
    "\n",
    "blogheading = \"introduCtion t0 JS\"\n",
    "print(blogheading.capitalize())\n",
    "\n",
    "# yeh string ke saare letter ko bhi short kar deta hai aur agar koi error aati toh usko bhi sahi kar deta "
   ]
  },
  {
   "cell_type": "code",
   "execution_count": null,
   "id": "c065d175",
   "metadata": {},
   "outputs": [
    {
     "name": "stdout",
     "output_type": "stream",
     "text": [
      "                                                                 Welcome to Watchmojo                                                                 \n"
     ]
    }
   ],
   "source": [
    "# Centre() - yeh method text ko center mein liyati hai\n",
    "\n",
    "x = \"Welcome to Watchmojo\"\n",
    "print(x.center(150))\n",
    "\n",
    "#jitne center mein number daaloge utne spaces woh chod dega "
   ]
  },
  {
   "cell_type": "code",
   "execution_count": 11,
   "id": "e520cb9f",
   "metadata": {},
   "outputs": [
    {
     "name": "stdout",
     "output_type": "stream",
     "text": [
      "5\n"
     ]
    }
   ],
   "source": [
    "# Count() - count the character in String\n",
    "\n",
    "s = \"abracadabra\"\n",
    "print(s.count(\"a\"))"
   ]
  },
  {
   "cell_type": "code",
   "execution_count": null,
   "id": "b9862980",
   "metadata": {},
   "outputs": [
    {
     "name": "stdout",
     "output_type": "stream",
     "text": [
      "True\n",
      "True\n"
     ]
    }
   ],
   "source": [
    "# Endwith - The endswith() method checks if the string ends with a given value. If yes then return True, else return False.\n",
    "\n",
    "str1 = \"Welcome to the Console !!!\"\n",
    "print(str1.endswith(\"!!!\"))\n",
    "\n",
    "# We can even also check for a value in-between the string by providing start and end index positions. for example\n",
    "\n",
    "str2 = \"Welcome to the Console\"\n",
    "print(str2.endswith(\"to\", 4,10))\n",
    "\n",
    "# 10 position of string \"to\" par end ho rahi hai"
   ]
  },
  {
   "cell_type": "code",
   "execution_count": null,
   "id": "1adf6802",
   "metadata": {},
   "outputs": [
    {
     "name": "stdout",
     "output_type": "stream",
     "text": [
      "10\n",
      "-1\n"
     ]
    }
   ],
   "source": [
    "# Find() - ( first occurrence of the given value and returns the index where it is present) \n",
    "# find method uss value ko find karta hai joh sabse pehle aaya ho for example yha par humne \"is\" find karne ko bola hai par\n",
    "# sabse pehla wala \"is\" \"He's\" hai toh woh count nahi hoga kyuki python ko nahi pata ki \"He's\" ka matlab \"he is\" hota hai \n",
    "\n",
    "str1 = \"He's name is Dan. He is an honest man.\"\n",
    "print(str1.find(\"is\"))\n",
    "\n",
    "# -1 isliye return kiya kyuki Daniel naam ki koi value nahi hai aur python aisa hi karta hai\n",
    "\n",
    "str1 = \"He's name is Dan. He is an honest man.\"\n",
    "print(str1.find(\"Daniel\"))"
   ]
  },
  {
   "cell_type": "code",
   "execution_count": 7,
   "id": "4b2b2cf8",
   "metadata": {},
   "outputs": [
    {
     "name": "stdout",
     "output_type": "stream",
     "text": [
      "True\n"
     ]
    }
   ],
   "source": [
    "# isalnum() : yeh batati hai ki kya aapki string alpha numric hai yaa nahi matlab ki usme  (a-z,A-Z,0-9) yeh character aate hai yaa nahi\n",
    "\n",
    "a = \"HeyitsHarry13\"\n",
    "print(a.isalnum())"
   ]
  },
  {
   "cell_type": "code",
   "execution_count": 8,
   "id": "97d31648",
   "metadata": {},
   "outputs": [
    {
     "name": "stdout",
     "output_type": "stream",
     "text": [
      "False\n",
      "True\n"
     ]
    }
   ],
   "source": [
    "# isalpha() : yeh method tabhi true hoti jab isme sirf (a-z,A-Z) ho agar number hoge toh false return karegi\n",
    "\n",
    "a = \"HeyitsHarry13\"\n",
    "print(a.isalpha())\n",
    "\n",
    "a = \"HeyitsHarry\"\n",
    "print(a.isalpha())\n"
   ]
  },
  {
   "cell_type": "code",
   "execution_count": 10,
   "id": "e8b7b4c7",
   "metadata": {},
   "outputs": [
    {
     "name": "stdout",
     "output_type": "stream",
     "text": [
      "True\n"
     ]
    }
   ],
   "source": [
    "# islower() - jab saare letter lowercase mein ho toh true hoti hai  \n",
    "\n",
    "a = \"heyitsharry13\"\n",
    "print(a.islower())"
   ]
  },
  {
   "cell_type": "code",
   "execution_count": null,
   "id": "181c0e38",
   "metadata": {},
   "outputs": [
    {
     "name": "stdout",
     "output_type": "stream",
     "text": [
      "True\n",
      "False\n"
     ]
    }
   ],
   "source": [
    "# isprintable() - method returns True if all the values within the given string are printable, if not, then return False.\n",
    "\n",
    "str1 = \"We wish you a Merry Christmas\"\n",
    "print(str1.isprintable())\n",
    "\n",
    "str2 = \"We wish you a Merry Christmas\\n\"\n",
    "print(str2.isprintable())\n",
    "\n",
    "#/n printable nahi hai"
   ]
  },
  {
   "cell_type": "code",
   "execution_count": 17,
   "id": "131e28f1",
   "metadata": {},
   "outputs": [
    {
     "name": "stdout",
     "output_type": "stream",
     "text": [
      "True\n",
      "True\n"
     ]
    }
   ],
   "source": [
    "# isspace() - The isspace() method returns True only and only if the string contains white spaces, else returns False.\n",
    "\n",
    "str1 = \"        \"       #using Spacebar\n",
    "print(str1.isspace())\n",
    "str2 = \"        \"       #using Tab\n",
    "print(str2.isspace())\n"
   ]
  },
  {
   "cell_type": "code",
   "execution_count": 20,
   "id": "e6578571",
   "metadata": {},
   "outputs": [
    {
     "name": "stdout",
     "output_type": "stream",
     "text": [
      "True\n",
      "False\n"
     ]
    }
   ],
   "source": [
    "# istitle() - The istitile() returns True only if the first letter of each word of the string is capitalized, else it returns False.\n",
    "\n",
    "str1 = \"World Health Organization\" \n",
    "print(str1.istitle())\n",
    "\n",
    "#Another example \n",
    "\n",
    "str2 = \"To kill a Mocking bird\"\n",
    "print(str2.istitle())"
   ]
  },
  {
   "cell_type": "code",
   "execution_count": 21,
   "id": "89b5ac92",
   "metadata": {},
   "outputs": [
    {
     "name": "stdout",
     "output_type": "stream",
     "text": [
      "True\n"
     ]
    }
   ],
   "source": [
    "# isupper - The isupper() method returns True if all the characters in the string are upper case, else it returns False.\n",
    "\n",
    "str1 = \"WORLD HEALTH ORGANIZATION\" \n",
    "print(str1.isupper())"
   ]
  },
  {
   "cell_type": "code",
   "execution_count": 23,
   "id": "6e81c832",
   "metadata": {},
   "outputs": [
    {
     "name": "stdout",
     "output_type": "stream",
     "text": [
      "True\n"
     ]
    }
   ],
   "source": [
    "# startswith() - The endswith() method checks if the string starts with a given value. If yes then return True, else return False.\n",
    "\n",
    "str1 = \"Python is a Interpreted Language\" \n",
    "print(str1.startswith(\"Python\"))"
   ]
  },
  {
   "cell_type": "code",
   "execution_count": 24,
   "id": "9b3267b2",
   "metadata": {},
   "outputs": [
    {
     "name": "stdout",
     "output_type": "stream",
     "text": [
      "pYTHON IS A iNTERPRETED lANGUAGE\n"
     ]
    }
   ],
   "source": [
    "# Swapcase - The swapcase() method changes the character casing of the string. Upper case are converted to lower case and lower case to upper case. \n",
    "\n",
    "str1 = \"Python is a Interpreted Language\" \n",
    "print(str1.swapcase())"
   ]
  },
  {
   "cell_type": "code",
   "execution_count": 25,
   "id": "498f6574",
   "metadata": {},
   "outputs": [
    {
     "name": "stdout",
     "output_type": "stream",
     "text": [
      "He'S Name Is Dan. Dan Is An Honest Man.\n"
     ]
    }
   ],
   "source": [
    "# title() - The title() method capitalizes each letter of the word within the string.\n",
    "\n",
    "str1 = \"He's name is Dan. Dan is an honest man.\"\n",
    "print(str1.title())"
   ]
  }
 ],
 "metadata": {
  "kernelspec": {
   "display_name": "Python 3",
   "language": "python",
   "name": "python3"
  },
  "language_info": {
   "codemirror_mode": {
    "name": "ipython",
    "version": 3
   },
   "file_extension": ".py",
   "mimetype": "text/x-python",
   "name": "python",
   "nbconvert_exporter": "python",
   "pygments_lexer": "ipython3",
   "version": "3.13.2"
  }
 },
 "nbformat": 4,
 "nbformat_minor": 5
}
