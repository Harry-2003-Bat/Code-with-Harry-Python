{
 "cells": [
  {
   "cell_type": "code",
   "execution_count": null,
   "id": "0d77ad6f",
   "metadata": {},
   "outputs": [
    {
     "name": "stdout",
     "output_type": "stream",
     "text": [
      "0\n",
      "1\n",
      "2\n",
      "3\n",
      "4\n",
      "5\n",
      "6\n",
      "7\n",
      "8\n",
      "9\n",
      "10\n",
      "Iss Loop ko chodkar nikal jao\n"
     ]
    }
   ],
   "source": [
    "# TODO Break Statement - The break statement enables a program to skip over a part of the code. \n",
    "#                      - A break statement terminates the very loop it lies within.\n",
    "\n",
    "for i in range(100):\n",
    "    print(i)\n",
    "    if (i==10):\n",
    "        break\n",
    "\n",
    "#for i in range(100): creates a loop that could run from i = 0 to i = 99.\n",
    "\n",
    "# However, as soon as the first iteration begins, print(i) prints 0 (the starting value).\n",
    "\n",
    "# Immediately after, break is encountered, which exits the loop right away.\n",
    "\n",
    "# The line after the loop:\n",
    "\n",
    "print(\"Iss Loop ko chodkar nikal jao\")"
   ]
  },
  {
   "cell_type": "code",
   "execution_count": 35,
   "id": "82902ad3",
   "metadata": {},
   "outputs": [
    {
     "name": "stdout",
     "output_type": "stream",
     "text": [
      "1 Mississippi\n",
      "2 Mississippi\n",
      "3 Mississippi\n",
      "4 Mississippi\n",
      "5 Mississippi\n",
      "6 Mississippi\n",
      "7 Mississippi\n",
      "8 Mississippi\n",
      "9 Mississippi\n",
      "10 Mississippi\n",
      "11 Mississippi\n",
      "12 Mississippi\n",
      "13 Mississippi\n",
      "14 Mississippi\n",
      "15 Mississippi\n",
      "16 Mississippi\n",
      "17 Mississippi\n",
      "18 Mississippi\n",
      "19 Mississippi\n",
      "20 Mississippi\n",
      "21 Mississippi\n",
      "22 Mississippi\n",
      "23 Mississippi\n",
      "24 Mississippi\n",
      "25 Mississippi\n",
      "26 Mississippi\n",
      "27 Mississippi\n",
      "28 Mississippi\n",
      "29 Mississippi\n",
      "30 Mississippi\n",
      "31 Mississippi\n",
      "32 Mississippi\n",
      "33 Mississippi\n",
      "34 Mississippi\n",
      "35 Mississippi\n",
      "36 Mississippi\n",
      "37 Mississippi\n",
      "38 Mississippi\n",
      "39 Mississippi\n",
      "40 Mississippi\n",
      "41 Mississippi\n",
      "42 Mississippi\n",
      "43 Mississippi\n",
      "44 Mississippi\n",
      "45 Mississippi\n",
      "46 Mississippi\n",
      "47 Mississippi\n",
      "48 Mississippi\n",
      "49 Mississippi\n",
      "50 Thank you\n"
     ]
    }
   ],
   "source": [
    "for i in range(1,101,1):\n",
    "    print(i ,end=\" \")\n",
    "    if(i==50):\n",
    "        break\n",
    "    else:\n",
    "        print(\"Mississippi\")\n",
    "print(\"Thank you\")"
   ]
  },
  {
   "cell_type": "code",
   "execution_count": null,
   "id": "39e1e54f",
   "metadata": {},
   "outputs": [],
   "source": [
    "# Break Statement - Loop Ko Chod kar nikal jao\n",
    "# Continue Statement - Iteration ko chod kar nikal jao"
   ]
  },
  {
   "cell_type": "code",
   "execution_count": null,
   "id": "28f78752",
   "metadata": {},
   "outputs": [],
   "source": [
    "# TODO Continue Statement - The continue statement skips the rest of the loop statements and causes the next iteration to occur"
   ]
  },
  {
   "cell_type": "code",
   "execution_count": null,
   "id": "17177917",
   "metadata": {},
   "outputs": [
    {
     "name": "stdout",
     "output_type": "stream",
     "text": [
      "0\n",
      "1\n",
      "2\n",
      "3\n",
      "4\n",
      "5\n",
      "6\n",
      "7\n",
      "8\n",
      "9\n",
      "11\n"
     ]
    }
   ],
   "source": [
    "for i in range(12):\n",
    "    if(i ==10):\n",
    "        continue\n",
    "    print(i)\n",
    "# Here the number 10 is skip"
   ]
  }
 ],
 "metadata": {
  "kernelspec": {
   "display_name": "Python 3",
   "language": "python",
   "name": "python3"
  },
  "language_info": {
   "codemirror_mode": {
    "name": "ipython",
    "version": 3
   },
   "file_extension": ".py",
   "mimetype": "text/x-python",
   "name": "python",
   "nbconvert_exporter": "python",
   "pygments_lexer": "ipython3",
   "version": "3.13.2"
  }
 },
 "nbformat": 4,
 "nbformat_minor": 5
}
