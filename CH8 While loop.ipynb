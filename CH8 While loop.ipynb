{
 "cells": [
  {
   "cell_type": "markdown",
   "id": "2e054091",
   "metadata": {},
   "source": [
    "***While Loop***"
   ]
  },
  {
   "cell_type": "code",
   "execution_count": null,
   "id": "dcf5cb55",
   "metadata": {},
   "outputs": [
    {
     "name": "stdout",
     "output_type": "stream",
     "text": [
      "5\n",
      "4\n",
      "3\n",
      "2\n",
      "1\n"
     ]
    }
   ],
   "source": [
    "# TODO While loop - while loops execute statements while the condition is True.\n",
    "\n",
    "# Decremental While Loop -\n",
    "\n",
    "count = 5\n",
    "while (count > 0):\n",
    "  print(count)\n",
    "  count = count - 1"
   ]
  },
  {
   "cell_type": "code",
   "execution_count": 19,
   "id": "119b4d26",
   "metadata": {},
   "outputs": [
    {
     "name": "stdout",
     "output_type": "stream",
     "text": [
      "5\n",
      "6\n",
      "7\n",
      "8\n",
      "9\n",
      "10\n"
     ]
    }
   ],
   "source": [
    "# Incremental While Loop -\n",
    "\n",
    "i = int(input(\"Enter Your Num :\"))\n",
    "while (i <= 10):\n",
    "    print(i)\n",
    "    i += 1  # Increment i to avoid infinite loop"
   ]
  },
  {
   "cell_type": "code",
   "execution_count": 36,
   "id": "d64db8b5",
   "metadata": {},
   "outputs": [
    {
     "name": "stdout",
     "output_type": "stream",
     "text": [
      "13\n"
     ]
    }
   ],
   "source": [
    "import random\n",
    "\n",
    "print(random.randint(1, 100))\n"
   ]
  }
 ],
 "metadata": {
  "kernelspec": {
   "display_name": "Python 3",
   "language": "python",
   "name": "python3"
  },
  "language_info": {
   "codemirror_mode": {
    "name": "ipython",
    "version": 3
   },
   "file_extension": ".py",
   "mimetype": "text/x-python",
   "name": "python",
   "nbconvert_exporter": "python",
   "pygments_lexer": "ipython3",
   "version": "3.13.2"
  }
 },
 "nbformat": 4,
 "nbformat_minor": 5
}
