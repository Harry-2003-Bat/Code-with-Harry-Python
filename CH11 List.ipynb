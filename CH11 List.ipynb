{
 "cells": [
  {
   "cell_type": "markdown",
   "id": "77c2910b",
   "metadata": {},
   "source": [
    "***List in Python***"
   ]
  },
  {
   "cell_type": "markdown",
   "id": "905d75a0",
   "metadata": {},
   "source": [
    "- Lists are ordered collection of data items.\n",
    "- They store multiple items in a single variable.\n",
    "- List items are separated by commas and enclosed within square brackets [].\n",
    "- Lists are changeable meaning we can alter them after creation."
   ]
  },
  {
   "cell_type": "code",
   "execution_count": 1,
   "id": "d984e663",
   "metadata": {},
   "outputs": [
    {
     "name": "stdout",
     "output_type": "stream",
     "text": [
      "[0, 1, 2, 3, 4, 5, 6]\n"
     ]
    }
   ],
   "source": [
    "# Example 1\n",
    "\n",
    "A = [0,1,2,3,4,5,6]\n",
    "print(A)"
   ]
  }
 ],
 "metadata": {
  "kernelspec": {
   "display_name": "Python 3",
   "language": "python",
   "name": "python3"
  },
  "language_info": {
   "codemirror_mode": {
    "name": "ipython",
    "version": 3
   },
   "file_extension": ".py",
   "mimetype": "text/x-python",
   "name": "python",
   "nbconvert_exporter": "python",
   "pygments_lexer": "ipython3",
   "version": "3.13.2"
  }
 },
 "nbformat": 4,
 "nbformat_minor": 5
}
