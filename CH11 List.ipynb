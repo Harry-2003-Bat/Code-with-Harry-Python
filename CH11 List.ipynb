{
 "cells": [
  {
   "cell_type": "markdown",
   "id": "77c2910b",
   "metadata": {},
   "source": [
    "# List in Python"
   ]
  },
  {
   "cell_type": "markdown",
   "id": "905d75a0",
   "metadata": {},
   "source": [
    "- Lists are ordered collection of data items.\n",
    "- They store multiple items in a single variable.\n",
    "- List items are separated by commas and enclosed within square brackets [].\n",
    "- Lists are changeable meaning we can alter them after creation."
   ]
  },
  {
   "cell_type": "code",
   "execution_count": 1,
   "id": "d984e663",
   "metadata": {},
   "outputs": [
    {
     "name": "stdout",
     "output_type": "stream",
     "text": [
      "[0, 1, 2, 3, 4, 5, 6]\n"
     ]
    }
   ],
   "source": [
    "# Example 1\n",
    "\n",
    "A = [0,1,2,3,4,5,6]\n",
    "print(A)"
   ]
  },
  {
   "cell_type": "code",
   "execution_count": 5,
   "id": "c5d44681",
   "metadata": {},
   "outputs": [
    {
     "name": "stdout",
     "output_type": "stream",
     "text": [
      "['Harshwardhan', '22100BTBDCEIM11280', 'SVVV', 'CSE ']\n"
     ]
    }
   ],
   "source": [
    "#example 2\n",
    "\n",
    "Biodata = [\"Harshwardhan\",\"22100BTBDCEIM11280\",\"SVVV\",\"CSE \"]\n",
    "print(Biodata)"
   ]
  },
  {
   "cell_type": "markdown",
   "id": "16fe4938",
   "metadata": {},
   "source": [
    "# Indexing in Python\n"
   ]
  },
  {
   "cell_type": "markdown",
   "id": "fbb1ea45",
   "metadata": {},
   "source": [
    "Each item/element in a list has its own unique index. This index can be used to access any particular item from the list. The first item has index [0], second item has index [1], third item has index [2] and so on.\n",
    "\n",
    "colors = [\"Red\", \"Green\", \"Blue\", \"Yellow\", \"Green\"]\n",
    "   #       [0]      [1]     [2]      [3]      [4]\n",
    "\n",
    "we can access element by indeixng for Example"
   ]
  },
  {
   "cell_type": "markdown",
   "id": "32142fcd",
   "metadata": {},
   "source": [
    "***Positive Indexing***"
   ]
  },
  {
   "cell_type": "code",
   "execution_count": null,
   "id": "a188f39f",
   "metadata": {},
   "outputs": [
    {
     "name": "stdout",
     "output_type": "stream",
     "text": [
      "Zomato\n",
      "Swiggy\n",
      "Blinkit\n",
      "Jio Mart\n",
      "Instamart\n"
     ]
    }
   ],
   "source": [
    "startup = [\"Zomato\",\"Swiggy\",\"Blinkit\",\"Jio Mart\",\"Instamart\"]\n",
    "#             [0]      [1]       [2]       [3]         [4]\n",
    "print(startup[0])\n",
    "print(startup[1])\n",
    "print(startup[2])\n",
    "print(startup[3])\n",
    "print(startup[4])"
   ]
  },
  {
   "cell_type": "markdown",
   "id": "e8e43cab",
   "metadata": {},
   "source": [
    "***Negative Indexing***"
   ]
  },
  {
   "cell_type": "code",
   "execution_count": null,
   "id": "eb2feb88",
   "metadata": {},
   "outputs": [
    {
     "name": "stdout",
     "output_type": "stream",
     "text": [
      "Zomato\n",
      "Instamart\n",
      "Jio Mart\n",
      "Blinkit\n",
      "Swiggy\n"
     ]
    }
   ],
   "source": [
    "startup = [\"Zomato\",\"Swiggy\",\"Blinkit\",\"Jio Mart\",\"Instamart\"]\n",
    "print(startup[-0])\n",
    "print(startup[-1])\n",
    "print(startup[-2])\n",
    "print(startup[-3])\n",
    "print(startup[-4])\n",
    "\n",
    "# (5-1) logic hai iske picche "
   ]
  },
  {
   "cell_type": "markdown",
   "id": "729173b2",
   "metadata": {},
   "source": [
    "***if else condition in List***"
   ]
  },
  {
   "cell_type": "code",
   "execution_count": 6,
   "id": "7b17d9c3",
   "metadata": {},
   "outputs": [
    {
     "name": "stdout",
     "output_type": "stream",
     "text": [
      "Zomato is Present\n"
     ]
    }
   ],
   "source": [
    "startup = [\"Zomato\",\"Swiggy\",\"Blinkit\",\"Jio Mart\",\"Instamart\"]\n",
    "#             [0]      [1]       [2]       [3]         [4]\n",
    "if \"Zomato\" in startup:\n",
    "    print(\"Zomato is Present\")\n",
    "else:\n",
    "    print(\"No\")     "
   ]
  },
  {
   "cell_type": "markdown",
   "id": "af07ee78",
   "metadata": {},
   "source": [
    "# Range of Index\n",
    "\n",
    "You can print a range of list items by specifying where you want to start, where do you want to end and if you want to skip elements in between the range.\n",
    "\n",
    "Syntax - listName[start : end : jumpIndex]\n",
    "\n",
    "Note: The element of the end index provided will not be included."
   ]
  },
  {
   "cell_type": "code",
   "execution_count": 19,
   "id": "cf4576d8",
   "metadata": {},
   "outputs": [
    {
     "name": "stdout",
     "output_type": "stream",
     "text": [
      "['cat', 'dog', 'tiger', 'mouse']\n",
      "['cat', 'tiger', 'panda']\n"
     ]
    }
   ],
   "source": [
    "pet = [\"cat\",\"dog\",\"tiger\",\"mouse\",\"panda\",\"bat\"]\n",
    "print(pet[0:4])\n",
    "print(pet[0:6:2])"
   ]
  },
  {
   "cell_type": "code",
   "execution_count": null,
   "id": "a3412efb",
   "metadata": {},
   "outputs": [
    {
     "name": "stdout",
     "output_type": "stream",
     "text": [
      "['pig', 'horse', 'donkey', 'goat', 'cow']\n",
      "['horse', 'donkey', 'goat', 'cow']\n"
     ]
    }
   ],
   "source": [
    "# print all the element\n",
    "\n",
    "animals = [\"cat\", \"dog\", \"bat\", \"mouse\", \"pig\", \"horse\", \"donkey\", \"goat\", \"cow\"]\n",
    "print(animals[4:])\t#using positive indexes\n",
    "print(animals[-4:])\t#using negative indexes\n",
    "\n",
    "# negative question ke liye pehle positive karo phir usko negative kar do yaar simple total mein se -1 kar do"
   ]
  },
  {
   "cell_type": "code",
   "execution_count": 23,
   "id": "95b402ce",
   "metadata": {},
   "outputs": [
    {
     "name": "stdout",
     "output_type": "stream",
     "text": [
      "['cat', 'bat', 'pig', 'donkey', 'cow']\n"
     ]
    }
   ],
   "source": [
    "# alternative value\n",
    "\n",
    "animals = [\"cat\", \"dog\", \"bat\", \"mouse\", \"pig\", \"horse\", \"donkey\", \"goat\", \"cow\"]\n",
    "print(animals[::2])"
   ]
  },
  {
   "cell_type": "markdown",
   "id": "434a4901",
   "metadata": {},
   "source": [
    "# list Corehension\n",
    "\n",
    "List comprehensions are used for creating new lists from other iterables like lists, tuples, dictionaries, sets, and even in arrays and strings.\n",
    "\n",
    "Syntax:\n",
    "List = [Expression(item) for item in iterable if Condition]\n",
    "\n",
    "Expression: It is the item which is being iterated.\n",
    "\n",
    "Iterable: It can be list, tuples, dictionaries, sets, and even in arrays and strings.\n",
    "\n",
    "Condition: Condition checks if the item should be added to the new list or not."
   ]
  },
  {
   "cell_type": "code",
   "execution_count": null,
   "id": "e66ec120",
   "metadata": {},
   "outputs": [
    {
     "name": "stdout",
     "output_type": "stream",
     "text": [
      "[0, 1, 2, 3]\n"
     ]
    }
   ],
   "source": [
    "# Simple \n",
    "\n",
    "lst = [i for i in range(4)]\n",
    "print(lst)"
   ]
  },
  {
   "cell_type": "code",
   "execution_count": null,
   "id": "7e9fe522",
   "metadata": {},
   "outputs": [
    {
     "name": "stdout",
     "output_type": "stream",
     "text": [
      "[0, 1, 4, 9]\n"
     ]
    }
   ],
   "source": [
    "# Multiplication\n",
    "\n",
    "lst = [i*i for i in range(4)]\n",
    "print(lst)"
   ]
  },
  {
   "cell_type": "code",
   "execution_count": 37,
   "id": "65ca011f",
   "metadata": {},
   "outputs": [
    {
     "name": "stdout",
     "output_type": "stream",
     "text": [
      "[0, 2, 4, 6, 8]\n"
     ]
    }
   ],
   "source": [
    "# Condition if num is Even\n",
    "\n",
    "lst = [i for i in range(10) if i%2==0]\n",
    "print(lst)"
   ]
  },
  {
   "cell_type": "code",
   "execution_count": 38,
   "id": "dc77bf9d",
   "metadata": {},
   "outputs": [
    {
     "name": "stdout",
     "output_type": "stream",
     "text": [
      "['Milo', 'Bruno', 'Rosa']\n"
     ]
    }
   ],
   "source": [
    "#  Accepts items with the small letter “o” in the new list\n",
    "\n",
    "names = [\"Milo\", \"Sarah\", \"Bruno\", \"Anastasia\", \"Rosa\"]\n",
    "namesWith_O = [item for item in names if \"o\" in item]\n",
    "print(namesWith_O)"
   ]
  },
  {
   "cell_type": "markdown",
   "id": "93e147aa",
   "metadata": {},
   "source": [
    "# List Methods"
   ]
  },
  {
   "cell_type": "markdown",
   "id": "c9071b08",
   "metadata": {},
   "source": [
    "***list.sort()*** - This method sorts the list in ascending and Descending order. The original list is updated"
   ]
  },
  {
   "cell_type": "code",
   "execution_count": null,
   "id": "c23c1d84",
   "metadata": {},
   "outputs": [
    {
     "name": "stdout",
     "output_type": "stream",
     "text": [
      "[4, 40, 50, 100, 181, 500, 2000, 3882]\n",
      "[3882, 2000, 500, 181, 100, 50, 40, 4]\n"
     ]
    }
   ],
   "source": [
    "# Ascending order \n",
    "num = [50,40,500,100,4,2000,181,3882]\n",
    "num.sort()\n",
    "print(num)\n",
    "\n",
    "# Descending order \n",
    "num = [50,40,500,100,4,2000,181,3882]\n",
    "num.sort(reverse=True)                     #We must give reverse=True as a parameter in the sort method.\n",
    "print(num)"
   ]
  },
  {
   "cell_type": "code",
   "execution_count": null,
   "id": "78e5b5c9",
   "metadata": {},
   "outputs": [
    {
     "name": "stdout",
     "output_type": "stream",
     "text": [
      "['amber', 'green', 'purple', 'red', 'violet', 'white']\n",
      "['white', 'violet', 'red', 'purple', 'green', 'amber']\n"
     ]
    }
   ],
   "source": [
    "# Ascending order\n",
    "col = [\"red\",\"green\",\"violet\",\"purple\",\"white\",\"amber\"]\n",
    "col.sort()\n",
    "print(col)\n",
    "\n",
    "#Descending order\n",
    "col = [\"red\",\"green\",\"violet\",\"purple\",\"white\",\"amber\"]\n",
    "col.sort(reverse=True)                     #We must give reverse=True as a parameter in the sort method.\n",
    "print(col)"
   ]
  },
  {
   "cell_type": "markdown",
   "id": "a2ffcad0",
   "metadata": {},
   "source": [
    "***reverse***- This method reverses the order of the list. (Reverse kar deta hai list ko)"
   ]
  },
  {
   "cell_type": "code",
   "execution_count": 10,
   "id": "fbbcfcde",
   "metadata": {},
   "outputs": [
    {
     "name": "stdout",
     "output_type": "stream",
     "text": [
      "[1, 2, 3, 4, 5, 6, 7, 8, 9, 10]\n"
     ]
    }
   ],
   "source": [
    "num=[10,9,8,7,6,5,4,3,2,1]\n",
    "num.reverse()\n",
    "print(num)"
   ]
  },
  {
   "cell_type": "markdown",
   "id": "db4b398f",
   "metadata": {},
   "source": [
    "***Index***-This method returns the index of the first occurrence of the list item. (number kis position par hai woh batata hain)"
   ]
  },
  {
   "cell_type": "code",
   "execution_count": null,
   "id": "46ac6a9f",
   "metadata": {},
   "outputs": [
    {
     "name": "stdout",
     "output_type": "stream",
     "text": [
      "10\n",
      "9\n"
     ]
    }
   ],
   "source": [
    "num = [1,1,9,3,4,5,6,6,6,7]\n",
    "print(len(num))\n",
    "print(num.index(7)) # 7 konsi position par hai"
   ]
  },
  {
   "cell_type": "markdown",
   "id": "753e4f2f",
   "metadata": {},
   "source": [
    "***Count***- kitni baar woh list mein aaya hai\n"
   ]
  },
  {
   "cell_type": "code",
   "execution_count": 31,
   "id": "d077acf1",
   "metadata": {},
   "outputs": [
    {
     "name": "stdout",
     "output_type": "stream",
     "text": [
      "4\n"
     ]
    }
   ],
   "source": [
    "num = [1,1,1,3,4,5,2,3,6,1]\n",
    "print(num.count(1))"
   ]
  },
  {
   "cell_type": "markdown",
   "id": "a322eae8",
   "metadata": {},
   "source": [
    "***Copy()***- Original list ko copy kar leta hai aur nayi list bna leta hai bina original list ko modify kare taaki uspe operation kar\n",
    "              paaye"
   ]
  },
  {
   "cell_type": "code",
   "execution_count": 32,
   "id": "165d640c",
   "metadata": {},
   "outputs": [
    {
     "name": "stdout",
     "output_type": "stream",
     "text": [
      "[1, 2, 3, 4, 5]\n",
      "[1, 2, 3, 4, 5]\n"
     ]
    }
   ],
   "source": [
    "num = [1,2,3,4,5]\n",
    "newlist = num.copy()\n",
    "print(num)\n",
    "print(newlist)"
   ]
  },
  {
   "cell_type": "markdown",
   "id": "ced02bb0",
   "metadata": {},
   "source": [
    "***Append***- yeh method naye item ko end mein jod deta hai"
   ]
  },
  {
   "cell_type": "code",
   "execution_count": 44,
   "id": "63f5097b",
   "metadata": {},
   "outputs": [
    {
     "name": "stdout",
     "output_type": "stream",
     "text": [
      "[1, 2, 3, 4, 5, 6]\n"
     ]
    }
   ],
   "source": [
    "num = [1,2,3,4,5]\n",
    "num.append(6)\n",
    "print(num)"
   ]
  },
  {
   "cell_type": "markdown",
   "id": "5887bfbf",
   "metadata": {},
   "source": [
    "***Insert***- yeh method use karke aap kisi bhi position par koi bhi item add kar sakte ho"
   ]
  },
  {
   "cell_type": "code",
   "execution_count": 45,
   "id": "c636d1ed",
   "metadata": {},
   "outputs": [
    {
     "name": "stdout",
     "output_type": "stream",
     "text": [
      "['Motorola', 'Apple', 'Samsung', 'Google']\n"
     ]
    }
   ],
   "source": [
    "num = [\"Apple\",\"Samsung\",\"Google\"]\n",
    "num.insert(0,\"Motorola\")\n",
    "print(num)"
   ]
  },
  {
   "cell_type": "markdown",
   "id": "7bbff8f5",
   "metadata": {},
   "source": [
    "***Extend()***- add list to list"
   ]
  },
  {
   "cell_type": "code",
   "execution_count": 50,
   "id": "afb72df8",
   "metadata": {},
   "outputs": [
    {
     "name": "stdout",
     "output_type": "stream",
     "text": [
      "[1, 2, 3, 4, 5, 6, 7, 8, 9, 10]\n"
     ]
    }
   ],
   "source": [
    "lst1 = [1,2,3,4,5]\n",
    "lst2 = [6,7,8,9,10]\n",
    "lst1.extend(lst2)\n",
    "print(lst1)"
   ]
  },
  {
   "cell_type": "markdown",
   "id": "22f0226c",
   "metadata": {},
   "source": [
    "***OR***"
   ]
  },
  {
   "cell_type": "code",
   "execution_count": 51,
   "id": "e0328c4f",
   "metadata": {},
   "outputs": [
    {
     "name": "stdout",
     "output_type": "stream",
     "text": [
      "[1, 2, 3, 4, 5, 6, 7, 8, 9, 10]\n"
     ]
    }
   ],
   "source": [
    "lst1 = [1,2,3,4,5]\n",
    "lst2 = [6,7,8,9,10]\n",
    "\n",
    "print(lst1+lst2)"
   ]
  }
 ],
 "metadata": {
  "kernelspec": {
   "display_name": "Python 3",
   "language": "python",
   "name": "python3"
  },
  "language_info": {
   "codemirror_mode": {
    "name": "ipython",
    "version": 3
   },
   "file_extension": ".py",
   "mimetype": "text/x-python",
   "name": "python",
   "nbconvert_exporter": "python",
   "pygments_lexer": "ipython3",
   "version": "3.13.2"
  }
 },
 "nbformat": 4,
 "nbformat_minor": 5
}
